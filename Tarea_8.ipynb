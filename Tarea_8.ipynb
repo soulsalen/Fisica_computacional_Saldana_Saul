{
 "cells": [
  {
   "cell_type": "markdown",
   "metadata": {
    "collapsed": true
   },
   "source": [
    "# Tarea 8\n",
    "### Física computacional.\n",
    "\n",
    "### Saúl A. Saldaña Enciso"
   ]
  },
  {
   "cell_type": "markdown",
   "metadata": {},
   "source": [
    "Ejercicio 1. Escribe una función derivadaNumerica que reciba: una función  f:ℝ↦ℝf:R↦R , un punto  x0∈ℝx0∈R  y un número  h∈ℝh∈R . Esta función deberá calcular una aproximación a la derivada utilizando la definición indicada arriba ignorando la parte del límite. Es decir, algo como: derivada_numerica(f,x,h)."
   ]
  },
  {
   "cell_type": "code",
   "execution_count": 3,
   "metadata": {
    "collapsed": true
   },
   "outputs": [],
   "source": [
    "function f(x); # Podemos definir nuestra funcion con la que queremos trabajar.\n",
    "    x^2\n",
    "end;"
   ]
  },
  {
   "cell_type": "code",
   "execution_count": 6,
   "metadata": {
    "collapsed": true
   },
   "outputs": [],
   "source": [
    "function derivadaNum(f,x,h) # Ahora, podemos empezar nuestra función de la derivada Numerica\n",
    "    g= (f(x+h)-f(x))/h # Para esto definimos como se comportará nuestra funcion respecto a como definimos la derivada numerica \n",
    "    return g; # Para esto regresamos a nuestra g(x)\n",
    "end;"
   ]
  },
  {
   "cell_type": "code",
   "execution_count": 8,
   "metadata": {
    "collapsed": false
   },
   "outputs": [
    {
     "data": {
      "text/plain": [
       "20.009999999999195"
      ]
     },
     "execution_count": 8,
     "metadata": {},
     "output_type": "execute_result"
    }
   ],
   "source": [
    "derivadaNum(f,10,0.01) # Ahora probamos nuestra funcion con nuestro valor x y una h pequeña para comprobar el método."
   ]
  },
  {
   "cell_type": "markdown",
   "metadata": {},
   "source": [
    "#### Ejercicio 7_: \n",
    "Explotar la relación  $δh=Δh−Δ−hδh=Δh−Δ−h$ , donde  $δh:f(x)↦f(x+h)−f(x−h)δh:f(x)↦f(x+h)−f(x−h)$ , para encontrar cual es la función  θθ  que relaciona a  δhδh  con el operador derivada exacta, es decir:\n",
    "$δh=θ(hddξ||||ξ=x)$.\n",
    "$δh=θ(hddξ|ξ=x)$.\n",
    " \n",
    "Una vez que la encuentren, despejen  $ ddξ|||ξ=xddξ|ξ=x $ y calculen la serie de Taylor de mánera similar a lo mostrado en las ecuaciones 3 y 4."
   ]
  },
  {
   "cell_type": "markdown",
   "metadata": {
    "collapsed": true
   },
   "source": [
    "Sabemos que podemos definir, por lo visto en clase:\n",
    "$$\\Delta_h=\\phi\\left(h\\left.\\frac{d}{d\\xi}\\right|_{\\substack{ \\xi=x }}\\right)$$.\n",
    "Sabiendo que podemos definir: $\\phi(x)=e^x-1$\n",
    "\n",
    "Entonces podemos expresarlo como:\n",
    "$$\\Delta_h=e^\\left(h\\left.\\frac{d}{d\\xi}\\right|_{\\substack{ \\xi=x }}\\right) - 1$$.\n",
    "\n",
    "Con esto podemos intuir que $\\Delta_{-h}$ se puede expresar como:\n",
    "$$\\Delta_{-h}=e^\\left(-h\\left.\\frac{d}{d\\xi}\\right|_{\\substack{ \\xi=x }}\\right) - 1$$."
   ]
  },
  {
   "cell_type": "markdown",
   "metadata": {
    "collapsed": true
   },
   "source": [
    "Ahora, queremos comocer que δh = $\\Delta_h - \\Delta_{-h}$\n",
    "Entonces podemos utilizar lo de arriba para conocer que: \n",
    "\n",
    "$δh = e^\\left(h\\left.\\frac{d}{d\\xi}\\right|_{\\substack{ \\xi=x }}\\right) - 1 - (e^\\left(-h\\left.\\frac{d}{d\\xi}\\right|_{\\substack{ \\xi=x }}\\right) - 1)$\n",
    "entonces, los 1 se cancelan y nos queda como:\n",
    "$$δh = e^\\left(h\\left.\\frac{d}{d\\xi}\\right|_{\\substack{ \\xi=x }}\\right) - e^\\left(-h\\left.\\frac{d}{d\\xi}\\right|_{\\substack{ \\xi=x }}\\right)$$\n",
    "para cuanquier $\\Delta_hf(x) = f(x+h) - f(x-h) $\n"
   ]
  },
  {
   "cell_type": "markdown",
   "metadata": {},
   "source": [
    "Ahora, conoces la equivalencia del seno hiperbolico, t.q:\n",
    "$$ sinh(x) = \\frac{e^x - e^{-x}}{2}$$\n",
    "\n",
    "\n",
    "entonces podemos ver la similitud de nuestra ecuacion δh, t.q si \n",
    "\n",
    "\n",
    "\n",
    "$$\\frac{δh}{2} = \\frac{e^\\left(h\\left.\\frac{d}{d\\xi}\\right|_{\\substack{ \\xi=x }}\\right) - e^\\left(-h\\left.\\frac{d}{d\\xi}\\right|_{\\substack{ \\xi=x }}\\right)}{2}$$\n",
    "\n",
    "esto es igual a: $$\\frac{δh}{2} = sinh  \\left(h\\left.\\frac{d}{d\\xi}\\right|_{\\substack{ \\xi=x }}\\right)$$\n",
    "\n",
    "\n",
    "Ahora, para la siguiente parte nos servira el resultado anterior, ya que podemos despejar $\\left(h\\left.\\frac{d}{d\\xi}\\right|_{\\substack{ \\xi=x }}\\right)$\n",
    "\n",
    "entonces:\n",
    "\n",
    "$$\\left(\\left.\\frac{d}{d\\xi}\\right|_{\\substack{ \\xi=x }}\\right) = \\frac{1}{h}sinh^{-1} (\\frac{δh}{2})$$\n",
    "\n",
    "\n",
    "Podemos realizar la serie de Taylor con la ecuacion econtrada arriba tal que nos queda: \n",
    "\n",
    "\n",
    "$$\\left(\\left.\\frac{d}{d\\xi}\\right|_{\\substack{ \\xi=x }}\\right) = \\frac{1}{h} \\sum_{n= 0}^{\\infty}\\frac{(-1^n)(2n)!}{(2^{2n})(n!)^2}(\\frac{δh}{2})^{2n} $$"
   ]
  },
  {
   "cell_type": "code",
   "execution_count": null,
   "metadata": {
    "collapsed": true
   },
   "outputs": [],
   "source": []
  }
 ],
 "metadata": {
  "kernelspec": {
   "display_name": "Julia 0.6.0",
   "language": "julia",
   "name": "julia-0.6"
  },
  "language_info": {
   "file_extension": ".jl",
   "mimetype": "application/julia",
   "name": "julia",
   "version": "0.6.0"
  }
 },
 "nbformat": 4,
 "nbformat_minor": 2
}
