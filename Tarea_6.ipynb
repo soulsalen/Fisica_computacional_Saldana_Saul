{
 "cells": [
  {
   "cell_type": "markdown",
   "metadata": {},
   "source": [
    "# Tarea 6\n",
    "### Física computacional\n",
    "\n",
    "#### Saúl A. Saldaña Enciso. "
   ]
  },
  {
   "cell_type": "code",
   "execution_count": 1,
   "metadata": {
    "collapsed": true
   },
   "outputs": [],
   "source": [
    "using SymPy"
   ]
  },
  {
   "cell_type": "markdown",
   "metadata": {},
   "source": [
    "Ejercicio 1. Implementar el método de integración del rectángulo. Deberán construir una rutina que reciba una función y el tamaño de la diferencia finita, y devuelva el valor aproximado de la integral. Para hacer esto deberán dividir el intervalo de integración en segmentos pequeños y aplicar la formula de arriba."
   ]
  },
  {
   "cell_type": "code",
   "execution_count": 1,
   "metadata": {
    "collapsed": true
   },
   "outputs": [],
   "source": [
    "function f(x);  # Definiremos nuestra función para los siguientes ejercicios\n",
    "    x^2-1 \n",
    "end;"
   ]
  },
  {
   "cell_type": "code",
   "execution_count": 8,
   "metadata": {
    "collapsed": true
   },
   "outputs": [],
   "source": [
    "function integra_rect(f,a,b,h); #Definimos nuestro método de integración, donde daremos los valores del intervalo como su altura de rectangulos\n",
    "    N = 100 # Definimos la cantidad de particiones\n",
    "    h = (b-a)/N # y tomamos la definición de nuestra h para conocer en cuantos intervalos queremos nuestra integración\n",
    "    suma = 0 # Escogemos un valor suma para ir guardando nuestros resultados.\n",
    "      for i in 1:N #Tomamos el ciclo for desde el primer intervalo hasta nuestra N dada.\n",
    "        altura = f(a + h/2) # Definimos nuestra altura de rectangulos de acuerdo en funcion de nuestra f\n",
    "        area = h*altura # Ahora, applicamos lo que es la definición del area de un rectangulo, que es nuestra base por a altura.\n",
    "        suma = suma+area; # Por ultimo queremos que se vallan sumando los valores que valla arrogajando nuestra area cada vez en nuestra suma\n",
    "        a = a + h\n",
    "    end\n",
    "    return suma; # Regresamos a la suma total que se arroje del método. \n",
    "end;"
   ]
  },
  {
   "cell_type": "code",
   "execution_count": 9,
   "metadata": {
    "collapsed": false
   },
   "outputs": [
    {
     "data": {
      "text/plain": [
       "323.3249999999992"
      ]
     },
     "execution_count": 9,
     "metadata": {},
     "output_type": "execute_result"
    }
   ],
   "source": [
    "integra_rect(f,0,10,100) # Probamos nuestra función..."
   ]
  },
  {
   "cell_type": "markdown",
   "metadata": {},
   "source": [
    "Ejercicio 2: Implementar método del trapecio de la misma forma que el ejercicio anterior."
   ]
  },
  {
   "cell_type": "code",
   "execution_count": 12,
   "metadata": {
    "collapsed": true
   },
   "outputs": [],
   "source": [
    "function integra_trapec(f,a,b,h) # Ahora definiremos nuestra función que seguira el método del trapecio.\n",
    "    N = 100 # De igual manera definimos el num de particiones\n",
    "    h = (b-a)/N # Definiremos nuestra h que nos sera util dentro de los intervalos entre [a,b]\n",
    "    suma = 0  # Escogemos un valor suma para ir guardando nuestros resultados.\n",
    "      for i in 1:N # De igual manera que el ejercicio anterior definimos nuestro ciclo for\n",
    "        area = (f(a)+f(a + h)) * h /2 # Aquí difiere del metodo anterior, ya que definimos con la función que nos pidio de una vez el area del trapecio, que sera las aproximaciones que nos dara nuestra función.\n",
    "        suma = suma + area; # De igual forma que el anterior se iran sumando las areas con nuestra suma\n",
    "        a = a + h # así se ira generando una nueva a de acuerdo con cada intervalo medido\n",
    "    end\n",
    "    return suma; # Retornamos a nuestra suma.\n",
    "end;"
   ]
  },
  {
   "cell_type": "code",
   "execution_count": 13,
   "metadata": {
    "collapsed": false
   },
   "outputs": [
    {
     "data": {
      "text/plain": [
       "323.3249999999992"
      ]
     },
     "execution_count": 13,
     "metadata": {},
     "output_type": "execute_result"
    }
   ],
   "source": [
    "integra_rect(f,0,10,100) # Probamos nuestra función... comparando el resultado del método anterior..."
   ]
  },
  {
   "cell_type": "code",
   "execution_count": null,
   "metadata": {
    "collapsed": true
   },
   "outputs": [],
   "source": []
  }
 ],
 "metadata": {
  "kernelspec": {
   "display_name": "Julia 0.6.0",
   "language": "julia",
   "name": "julia-0.6"
  },
  "language_info": {
   "file_extension": ".jl",
   "mimetype": "application/julia",
   "name": "julia",
   "version": "0.6.0"
  }
 },
 "nbformat": 4,
 "nbformat_minor": 2
}
