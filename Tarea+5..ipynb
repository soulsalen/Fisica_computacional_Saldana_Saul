{
 "cells": [
  {
   "cell_type": "markdown",
   "metadata": {
    "collapsed": true
   },
   "source": [
    "# Tarea 5.\n",
    "### Física computacional. \n",
    "### Saldaña Enciso Saúl Arturo.\n",
    "\n"
   ]
  },
  {
   "cell_type": "markdown",
   "metadata": {},
   "source": [
    "#### 1) Método de integración de Riemann. \n",
    "La integral de Riemann es una operación sobre una función continua y limitada en un intervalo [a,b], donde a y b son llamados los extremos de la integración. La operación consiste en hallar el límite de la suma de productos entre el valor de la función en un punto x$_{0}$ y el ancho Δx del subintervalo conteniendo al punto. Con esto queremos encontrar un numero de rectangulos que se formen con una altura y un base de acuerdo a las diferencias de elementos dentro de nuestro conjunto, hacer por arriba con las minimas cotas superiores y las maximas cotas inferiores hasta que estos valores coincidan, para poder sumar todos estos rectangulos que se aproximan a nuestra función.\n"
   ]
  },
  {
   "cell_type": "markdown",
   "metadata": {},
   "source": [
    "Def. como R(f,a,b) la intengral t.q \"s\" es la suma de rectangulos inferiores y \"S\" la suma de rectangulos superiores, t.q s$\\leq$ R(f,a,b)$\\leq$ S, acotada.\n",
    "\n",
    "Def. Una partición regular P de un intervalo [a,b] es un conjunto finito de puntos de [a,b] t.q $ a,b \\in \\mathbb{R}$, divididos en n partes iguales. Una partición P la denotaremos ordenando sus puntos de menor a mayor, comenzando en a y terminando en b. La denotarelmos:\n",
    "\n",
    "P = ( t$_{0}$, t$_{1}$, t$_{2}$, ... , t$_{n}$ )  \n",
    "tal que t$_{0}$ = a y t$_{n}$ = b\n",
    "\n",
    "Def. Sea P y Q particiones de [a,b] decimos que Q es mas fina que P si P$\\mathbb{c}$Q. Si Q tiene los puntos de P y al menos uno más que P.  \n",
    "Q = P+ n, n>Q \n",
    "Tambien decimos que Q refina a P o bien Q es una partición más fina que P.\n",
    "\n",
    "Def. Sea F, una función acotada en [a,b] y sea P partición P = ( t$_{0}$, t$_{1}$, t$_{2}$, ... , t$_{n}$ ), definieremos:\n",
    " mi = Inf{F(x)| x $\\in$ [T$_{i-1}$, ... , T$_{i}$]             \n",
    " Mi = Sup{F(x)| x $\\in$ [T$_{i-1}$, ... , T$_{i}$], $ \\forall i = 1,...,n $\n",
    " \n",
    "Def. Suma inferior L(F,P) y superior S(F,P) por F(x) con una partición P en [a.b]\n",
    "          \n",
    " $L(F,P) = \\sum_{i=1}^{n}$ m$_{i}$(T$_{i}$ - T$_{i-1}$) ,\n",
    " $U(F,P) = \\sum_{i=1}^{n}$ m$_{i}$(T$_{i}$ - T$_{i-1}$)   \n",
    "Representando la suma de las areas de los rectangulos del intervalo Δx = (T$_{i}$ - T$_{i-1}$) por las alturas de los infimos y supremos, respectivamente.\n",
    " \n",
    " \n",
    "Por ultimo definimos: \n",
    "Dada f acotada en [a, b], se define su integral inferior en [a, b] como:\n",
    "$$\\int_a ^{b} f(x) =  sup ({L(f, P)); P ∈ P([a, b])}$$\n",
    "Dada f acotada en [a, b], se define su integral superior r en [a, b] como:\n",
    "$$\\int_a ^{b} f(x) =  inf ({U(f, P)); P ∈ P([a, b])}$$\n"
   ]
  },
  {
   "cell_type": "markdown",
   "metadata": {},
   "source": [
    "Una función F acotada en [a, b] es integrable por el metodo de Riemann en [a, b], t.q cumple que:\n",
    "$$\\int_a ^{b} f(x) =  sup ({S(f, P)); P ∈ P([a, b])}$$ $=$  $$\\int_a ^{b} f(x) =  inf ({S(f, P)); P ∈ P([a, b])}$$\n",
    " \n",
    "\n",
    "En tal caso, si la sumas de las inferiores y superiores coincides, siendo estas representadas por las integreles de los rectangulos inferiores y superiores,  se le llama la integral de Riemann. t.q cumpla con la ultima definicion de te sup(L(F,P))= Inf(U(F,P)), entonces denominamos la integral de Rienmman como:\n",
    "\n",
    "$$\\int_a ^{b} f $$\n"
   ]
  },
  {
   "cell_type": "markdown",
   "metadata": {},
   "source": [
    "#### 2) Regla del trapecio\n",
    "\n",
    "La regla del trapecio simple es un metodo del analisis matemático para emplear a una función y encontrar su integral, es decir, este metodo busca poder aproximar el valor de una integral definida. Se basa en aproximar el valor de la integral de F(x) por el de la funcion lineal, que pasa a travez de los puntos (a,F(a)) y (b,(F(b)), la cual formará un trapecio y el area integrada de esta dara como resultado la integral aproximada de nuestra F. \n"
   ]
  },
  {
   "cell_type": "markdown",
   "metadata": {},
   "source": [
    "Para esta aplicacion usamos un polinomio de primer orden, la cual se define como:\n",
    "$$ P(x) = f(a) + \\frac{f(b) - f(a)}{b-a} (x-a)$$\n",
    "\n",
    "Sustituyendo en una integral\n",
    "\n",
    "$$ \\int_a ^{b} f(x)dx ≈ \\int_a ^{b} P(x)dx = \\int_a ^{b} f(a) + \\frac{f(b) - f(a)}{b-a} (x-a) dx $$\n",
    "\n",
    "Resolviendo la integral tenemos que;\n",
    "$$ \\int_a ^{b} f(x)dx ≈ (b-a)\\frac{f(b) + f(a)}{2} $$\n",
    "\n",
    "De igual podemos calcular el error que esta dado por:\n",
    "\n",
    "$$ E_{t}= \\frac{-1}{12} f''(\\epsilon) (b-a)^{3}$$\n"
   ]
  },
  {
   "cell_type": "markdown",
   "metadata": {
    "collapsed": true
   },
   "source": [
    "La regla del trapecio compuesta o regla de los trapecios es una forma de aproximar una integral definida\n",
    "utilizando n trapecios. En la formulación de este método se supone que f es continua y positiva en el intervalo [a,b].\n",
    "De tal modo la integral definida representa el área de la región delimitada por la gráfica de f y el eje x,\n",
    "desde x=a hasta x=b. Primero se divide el intervalo [a,b] en n subintervalos, cada uno de ancho\n",
    ".\n",
    "Después de realizar todo el poceso matemático se llega a la siguiente fórmula:\n",
    "\n",
    "$$ \\int_a ^{b} f(x)dx ≈  \\frac{h}{2} [F(a)+2F(h+a)+2F(2h+a)+ ... + F(b)] ≈ \\frac{b-a}{n} (\\frac{f(a)+f(b)}{2}) + \\sum_{k=1}^{n-1} f (a + k\\frac{b-a}{n})$$\n",
    "\n",
    "donde:\n",
    "h = $\\frac{b-a}{n}$\n",
    "\n",
    "y dondé el error esta definido por:\n",
    "$$ E_{t}= \\frac{-1}{12n^2} f''(\\epsilon) (b-a)^{3}$$\n"
   ]
  },
  {
   "cell_type": "markdown",
   "metadata": {},
   "source": [
    "#### 3) Método de Simpson\n",
    "Tambien conocido como regla de Kepler, es un método numérico con el cual se hacen aproximaciones de una integral. \n",
    "En integración numérica, una forma de aproximar una integral definida en un intervalo [a,b] es mediante la regla del trapecio, es decir, que sobre cada subintervalo en el que se divide [a,b] se aproxima f por un polinomio de primer grado, para luego calcular la integral como suma de las áreas de los trapecios formados en esos subintervalos. El método utilizado para la regla de Simpson sigue los mismos principios, aproximando los subintervalos de f mediante polinomios de segundo grado.\n",
    "\n",
    "Consideramos el polinomio interpolador de orden dos $ P_{2}(x)$, que aproxima a la función integrando f(x)entre los nodos x$_{0}$ = a, x1 = b y m = (a+b)/2. La expresión de ese polinomio interpolante, expresado a través de la interpolación polinómica de Lagrange es:\n",
    "\n",
    "$$ P_{2}(x) = f(a)\\frac{(x-m)(x-b}{(a-m)(a-b)} + f(m)\\frac{(x-a)(x-b)}{(m-a)(m-b)} + f(b)\\frac{(x-a)(x-m}{(b-a)(b-m)}$$\n",
    "\n",
    "Definimos la integral como:\n",
    "$$\\int_a ^{b} f $$\n",
    "\n",
    "Sustituyendo podemos definir nuestro metodo como:\n",
    "$$\\int_a ^{b} P_{2}dx + error = \\frac{b-a}{6} [ f(a) + 4f(m) + f(b)] + E(f) $$\n",
    "Donde E(f) es el error, y por ende podemos aproximar como:\n",
    "\n",
    "$$\\int_a ^{b} f(x)dx ≈ \\frac{b-a}{6} [ f(a) + 4f(m) + f(b)]$$\n",
    "\n",
    "Y el error lo definimos como:\n",
    "$$E(f) = -\\frac{h^5}{90} f^(4)(\\zeta) $$\n",
    "donde \n",
    "h = $\\frac{b-a}{n}$ y $\\zeta$ pertenece a [a,b]"
   ]
  },
  {
   "cell_type": "code",
   "execution_count": null,
   "metadata": {
    "collapsed": true
   },
   "outputs": [],
   "source": []
  }
 ],
 "metadata": {
  "kernelspec": {
   "display_name": "Julia 0.6.0",
   "language": "julia",
   "name": "julia-0.6"
  },
  "language_info": {
   "file_extension": ".jl",
   "mimetype": "application/julia",
   "name": "julia",
   "version": "0.6.0"
  }
 },
 "nbformat": 4,
 "nbformat_minor": 2
}
